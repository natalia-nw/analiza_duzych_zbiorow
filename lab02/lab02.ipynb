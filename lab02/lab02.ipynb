{
 "cells": [
  {
   "cell_type": "code",
   "id": "initial_id",
   "metadata": {
    "collapsed": true,
    "ExecuteTime": {
     "end_time": "2024-10-23T13:24:46.955168Z",
     "start_time": "2024-10-23T13:24:46.952057Z"
    }
   },
   "source": [
    "import numpy as np\n",
    "import pandas as pd\n",
    "import time"
   ],
   "outputs": [],
   "execution_count": 3
  },
  {
   "metadata": {
    "ExecuteTime": {
     "end_time": "2024-10-23T13:24:57.242849Z",
     "start_time": "2024-10-23T13:24:57.239128Z"
    }
   },
   "cell_type": "code",
   "source": [
    "import dask.dataframe as dd\n",
    "import dask.array as da"
   ],
   "id": "85a444e4e910aa6a",
   "outputs": [],
   "execution_count": 4
  },
  {
   "metadata": {
    "ExecuteTime": {
     "end_time": "2024-10-23T13:26:15.248865Z",
     "start_time": "2024-10-23T13:26:14.727322Z"
    }
   },
   "cell_type": "code",
   "source": "from dask.distributed import Client",
   "id": "c7181618fba2af8a",
   "outputs": [],
   "execution_count": 6
  },
  {
   "metadata": {},
   "cell_type": "markdown",
   "source": "Zadanie 1",
   "id": "dd774f48a614c358"
  },
  {
   "metadata": {
    "ExecuteTime": {
     "end_time": "2024-10-23T13:27:36.953710Z",
     "start_time": "2024-10-23T13:27:36.912212Z"
    }
   },
   "cell_type": "code",
   "source": [
    "df = pd.read_csv('zamowienia.csv', sep=';')\n",
    "df.dtypes"
   ],
   "id": "6e9ba5fcf84effb4",
   "outputs": [
    {
     "data": {
      "text/plain": [
       "Kraj                object\n",
       "Sprzedawca          object\n",
       "Data zamowienia     object\n",
       "idZamowienia         int64\n",
       "Utarg              float64\n",
       "dtype: object"
      ]
     },
     "execution_count": 7,
     "metadata": {},
     "output_type": "execute_result"
    }
   ],
   "execution_count": 7
  },
  {
   "metadata": {
    "ExecuteTime": {
     "end_time": "2024-10-23T13:35:45.275903Z",
     "start_time": "2024-10-23T13:35:45.258089Z"
    }
   },
   "cell_type": "code",
   "source": [
    "ddf = dd.read_csv('zamowienia_missing.csv', delimiter=',')\n",
    "ddf.dtypes"
   ],
   "id": "d2b11571e6e75584",
   "outputs": [
    {
     "data": {
      "text/plain": [
       "Unnamed: 0           int64\n",
       "Kraj                object\n",
       "Sprzedawca          object\n",
       "Data zamowienia     object\n",
       "idZamowienia       float64\n",
       "Utarg              float64\n",
       "dtype: object"
      ]
     },
     "execution_count": 11,
     "metadata": {},
     "output_type": "execute_result"
    }
   ],
   "execution_count": 11
  },
  {
   "metadata": {
    "ExecuteTime": {
     "end_time": "2024-10-23T13:55:12.134723Z",
     "start_time": "2024-10-23T13:55:12.112217Z"
    }
   },
   "cell_type": "code",
   "source": "ddf.head(25)",
   "id": "5f6070f380cdcd3d",
   "outputs": [
    {
     "data": {
      "text/plain": [
       "    Unnamed: 0    Kraj Sprzedawca Data zamowienia  idZamowienia    Utarg\n",
       "0            0  Polska   Kowalski      2003-07-16       10248.0   440.00\n",
       "1            1  Polska   Sowiński      2003-07-10       10249.0  1863.40\n",
       "2            2  Niemcy    Peacock      2003-07-12       10250.0  1552.60\n",
       "3            3  Niemcy  Leverling      2003-07-15       10251.0   654.06\n",
       "4            4  Niemcy    Peacock      2003-07-11       10252.0  3597.90\n",
       "5            5  Niemcy  Leverling      2003-07-16       10253.0  1444.80\n",
       "6            6  Polska   Kowalski      2003-07-23       10254.0   556.62\n",
       "7            7  Polska      Dudek      2003-07-15       10255.0  2490.50\n",
       "8            8  Niemcy  Leverling      2003-07-17       10256.0   517.80\n",
       "9            9  Niemcy    Peacock      2003-07-22       10257.0  1119.90\n",
       "10          10  Niemcy    Davolio      2003-07-23       10258.0  1614.88\n",
       "11          11  Niemcy    Peacock      2003-07-25       10259.0   100.80\n",
       "12          12  Niemcy    Peacock      2003-07-29       10260.0  1504.65\n",
       "13          13  Niemcy    Peacock      2003-07-30       10261.0      NaN\n",
       "14          14  Niemcy   Callahan      2003-07-25       10262.0   584.00\n",
       "15          15  Polska        NaN      2003-07-31       10263.0  1873.80\n",
       "16          16     NaN   Sowiński      2003-08-23       10264.0   695.62\n",
       "17          17  Niemcy     Fuller      2003-08-12       10265.0  1176.00\n",
       "18          18  Niemcy  Leverling      2003-07-31       10266.0   346.56\n",
       "19          19  Niemcy    Peacock             NaN       10267.0  3536.60\n",
       "20          20  Niemcy   Callahan      2003-08-02       10268.0  1101.20\n",
       "21          21  Polska   Kowalski      2003-08-09       10269.0   642.20\n",
       "22          22  Niemcy    Davolio      2003-08-02           NaN  1376.00\n",
       "23          23  Polska   Sowiński      2003-08-30       10271.0    48.00\n",
       "24          24  Polska   Sowiński      2003-08-06       10272.0  1456.00"
      ],
      "text/html": [
       "<div>\n",
       "<style scoped>\n",
       "    .dataframe tbody tr th:only-of-type {\n",
       "        vertical-align: middle;\n",
       "    }\n",
       "\n",
       "    .dataframe tbody tr th {\n",
       "        vertical-align: top;\n",
       "    }\n",
       "\n",
       "    .dataframe thead th {\n",
       "        text-align: right;\n",
       "    }\n",
       "</style>\n",
       "<table border=\"1\" class=\"dataframe\">\n",
       "  <thead>\n",
       "    <tr style=\"text-align: right;\">\n",
       "      <th></th>\n",
       "      <th>Unnamed: 0</th>\n",
       "      <th>Kraj</th>\n",
       "      <th>Sprzedawca</th>\n",
       "      <th>Data zamowienia</th>\n",
       "      <th>idZamowienia</th>\n",
       "      <th>Utarg</th>\n",
       "    </tr>\n",
       "  </thead>\n",
       "  <tbody>\n",
       "    <tr>\n",
       "      <th>0</th>\n",
       "      <td>0</td>\n",
       "      <td>Polska</td>\n",
       "      <td>Kowalski</td>\n",
       "      <td>2003-07-16</td>\n",
       "      <td>10248.0</td>\n",
       "      <td>440.00</td>\n",
       "    </tr>\n",
       "    <tr>\n",
       "      <th>1</th>\n",
       "      <td>1</td>\n",
       "      <td>Polska</td>\n",
       "      <td>Sowiński</td>\n",
       "      <td>2003-07-10</td>\n",
       "      <td>10249.0</td>\n",
       "      <td>1863.40</td>\n",
       "    </tr>\n",
       "    <tr>\n",
       "      <th>2</th>\n",
       "      <td>2</td>\n",
       "      <td>Niemcy</td>\n",
       "      <td>Peacock</td>\n",
       "      <td>2003-07-12</td>\n",
       "      <td>10250.0</td>\n",
       "      <td>1552.60</td>\n",
       "    </tr>\n",
       "    <tr>\n",
       "      <th>3</th>\n",
       "      <td>3</td>\n",
       "      <td>Niemcy</td>\n",
       "      <td>Leverling</td>\n",
       "      <td>2003-07-15</td>\n",
       "      <td>10251.0</td>\n",
       "      <td>654.06</td>\n",
       "    </tr>\n",
       "    <tr>\n",
       "      <th>4</th>\n",
       "      <td>4</td>\n",
       "      <td>Niemcy</td>\n",
       "      <td>Peacock</td>\n",
       "      <td>2003-07-11</td>\n",
       "      <td>10252.0</td>\n",
       "      <td>3597.90</td>\n",
       "    </tr>\n",
       "    <tr>\n",
       "      <th>5</th>\n",
       "      <td>5</td>\n",
       "      <td>Niemcy</td>\n",
       "      <td>Leverling</td>\n",
       "      <td>2003-07-16</td>\n",
       "      <td>10253.0</td>\n",
       "      <td>1444.80</td>\n",
       "    </tr>\n",
       "    <tr>\n",
       "      <th>6</th>\n",
       "      <td>6</td>\n",
       "      <td>Polska</td>\n",
       "      <td>Kowalski</td>\n",
       "      <td>2003-07-23</td>\n",
       "      <td>10254.0</td>\n",
       "      <td>556.62</td>\n",
       "    </tr>\n",
       "    <tr>\n",
       "      <th>7</th>\n",
       "      <td>7</td>\n",
       "      <td>Polska</td>\n",
       "      <td>Dudek</td>\n",
       "      <td>2003-07-15</td>\n",
       "      <td>10255.0</td>\n",
       "      <td>2490.50</td>\n",
       "    </tr>\n",
       "    <tr>\n",
       "      <th>8</th>\n",
       "      <td>8</td>\n",
       "      <td>Niemcy</td>\n",
       "      <td>Leverling</td>\n",
       "      <td>2003-07-17</td>\n",
       "      <td>10256.0</td>\n",
       "      <td>517.80</td>\n",
       "    </tr>\n",
       "    <tr>\n",
       "      <th>9</th>\n",
       "      <td>9</td>\n",
       "      <td>Niemcy</td>\n",
       "      <td>Peacock</td>\n",
       "      <td>2003-07-22</td>\n",
       "      <td>10257.0</td>\n",
       "      <td>1119.90</td>\n",
       "    </tr>\n",
       "    <tr>\n",
       "      <th>10</th>\n",
       "      <td>10</td>\n",
       "      <td>Niemcy</td>\n",
       "      <td>Davolio</td>\n",
       "      <td>2003-07-23</td>\n",
       "      <td>10258.0</td>\n",
       "      <td>1614.88</td>\n",
       "    </tr>\n",
       "    <tr>\n",
       "      <th>11</th>\n",
       "      <td>11</td>\n",
       "      <td>Niemcy</td>\n",
       "      <td>Peacock</td>\n",
       "      <td>2003-07-25</td>\n",
       "      <td>10259.0</td>\n",
       "      <td>100.80</td>\n",
       "    </tr>\n",
       "    <tr>\n",
       "      <th>12</th>\n",
       "      <td>12</td>\n",
       "      <td>Niemcy</td>\n",
       "      <td>Peacock</td>\n",
       "      <td>2003-07-29</td>\n",
       "      <td>10260.0</td>\n",
       "      <td>1504.65</td>\n",
       "    </tr>\n",
       "    <tr>\n",
       "      <th>13</th>\n",
       "      <td>13</td>\n",
       "      <td>Niemcy</td>\n",
       "      <td>Peacock</td>\n",
       "      <td>2003-07-30</td>\n",
       "      <td>10261.0</td>\n",
       "      <td>NaN</td>\n",
       "    </tr>\n",
       "    <tr>\n",
       "      <th>14</th>\n",
       "      <td>14</td>\n",
       "      <td>Niemcy</td>\n",
       "      <td>Callahan</td>\n",
       "      <td>2003-07-25</td>\n",
       "      <td>10262.0</td>\n",
       "      <td>584.00</td>\n",
       "    </tr>\n",
       "    <tr>\n",
       "      <th>15</th>\n",
       "      <td>15</td>\n",
       "      <td>Polska</td>\n",
       "      <td>NaN</td>\n",
       "      <td>2003-07-31</td>\n",
       "      <td>10263.0</td>\n",
       "      <td>1873.80</td>\n",
       "    </tr>\n",
       "    <tr>\n",
       "      <th>16</th>\n",
       "      <td>16</td>\n",
       "      <td>NaN</td>\n",
       "      <td>Sowiński</td>\n",
       "      <td>2003-08-23</td>\n",
       "      <td>10264.0</td>\n",
       "      <td>695.62</td>\n",
       "    </tr>\n",
       "    <tr>\n",
       "      <th>17</th>\n",
       "      <td>17</td>\n",
       "      <td>Niemcy</td>\n",
       "      <td>Fuller</td>\n",
       "      <td>2003-08-12</td>\n",
       "      <td>10265.0</td>\n",
       "      <td>1176.00</td>\n",
       "    </tr>\n",
       "    <tr>\n",
       "      <th>18</th>\n",
       "      <td>18</td>\n",
       "      <td>Niemcy</td>\n",
       "      <td>Leverling</td>\n",
       "      <td>2003-07-31</td>\n",
       "      <td>10266.0</td>\n",
       "      <td>346.56</td>\n",
       "    </tr>\n",
       "    <tr>\n",
       "      <th>19</th>\n",
       "      <td>19</td>\n",
       "      <td>Niemcy</td>\n",
       "      <td>Peacock</td>\n",
       "      <td>NaN</td>\n",
       "      <td>10267.0</td>\n",
       "      <td>3536.60</td>\n",
       "    </tr>\n",
       "    <tr>\n",
       "      <th>20</th>\n",
       "      <td>20</td>\n",
       "      <td>Niemcy</td>\n",
       "      <td>Callahan</td>\n",
       "      <td>2003-08-02</td>\n",
       "      <td>10268.0</td>\n",
       "      <td>1101.20</td>\n",
       "    </tr>\n",
       "    <tr>\n",
       "      <th>21</th>\n",
       "      <td>21</td>\n",
       "      <td>Polska</td>\n",
       "      <td>Kowalski</td>\n",
       "      <td>2003-08-09</td>\n",
       "      <td>10269.0</td>\n",
       "      <td>642.20</td>\n",
       "    </tr>\n",
       "    <tr>\n",
       "      <th>22</th>\n",
       "      <td>22</td>\n",
       "      <td>Niemcy</td>\n",
       "      <td>Davolio</td>\n",
       "      <td>2003-08-02</td>\n",
       "      <td>NaN</td>\n",
       "      <td>1376.00</td>\n",
       "    </tr>\n",
       "    <tr>\n",
       "      <th>23</th>\n",
       "      <td>23</td>\n",
       "      <td>Polska</td>\n",
       "      <td>Sowiński</td>\n",
       "      <td>2003-08-30</td>\n",
       "      <td>10271.0</td>\n",
       "      <td>48.00</td>\n",
       "    </tr>\n",
       "    <tr>\n",
       "      <th>24</th>\n",
       "      <td>24</td>\n",
       "      <td>Polska</td>\n",
       "      <td>Sowiński</td>\n",
       "      <td>2003-08-06</td>\n",
       "      <td>10272.0</td>\n",
       "      <td>1456.00</td>\n",
       "    </tr>\n",
       "  </tbody>\n",
       "</table>\n",
       "</div>"
      ]
     },
     "execution_count": 16,
     "metadata": {},
     "output_type": "execute_result"
    }
   ],
   "execution_count": 16
  },
  {
   "metadata": {
    "ExecuteTime": {
     "end_time": "2024-10-23T13:57:23.211496Z",
     "start_time": "2024-10-23T13:57:23.179303Z"
    }
   },
   "cell_type": "code",
   "source": [
    "result = ddf['Utarg'].mean().compute()\n",
    "result"
   ],
   "id": "40d60d3b0f6fce0a",
   "outputs": [
    {
     "data": {
      "text/plain": [
       "np.float64(1538.6959899749372)"
      ]
     },
     "execution_count": 17,
     "metadata": {},
     "output_type": "execute_result"
    }
   ],
   "execution_count": 17
  },
  {
   "metadata": {
    "ExecuteTime": {
     "end_time": "2024-10-23T13:57:38.927278Z",
     "start_time": "2024-10-23T13:57:38.897278Z"
    }
   },
   "cell_type": "code",
   "source": "ddf[ddf['Kraj'] == 'Polska']['Utarg'].sum().compute()",
   "id": "f1488444c2d1d926",
   "outputs": [
    {
     "data": {
      "text/plain": [
       "np.float64(332635.29)"
      ]
     },
     "execution_count": 18,
     "metadata": {},
     "output_type": "execute_result"
    }
   ],
   "execution_count": 18
  },
  {
   "metadata": {
    "ExecuteTime": {
     "end_time": "2024-10-23T13:57:57.235313Z",
     "start_time": "2024-10-23T13:57:57.191244Z"
    }
   },
   "cell_type": "code",
   "source": [
    "ddf_sample = dd.read_csv('zamowienia_missing.csv', sep=',', sample=1000)\n",
    "ddf_sample[ddf_sample['Kraj'] == 'Polska']['Utarg'].sum().compute()"
   ],
   "id": "6e1418e2e8ea4d1a",
   "outputs": [
    {
     "data": {
      "text/plain": [
       "np.float64(332635.29)"
      ]
     },
     "execution_count": 19,
     "metadata": {},
     "output_type": "execute_result"
    }
   ],
   "execution_count": 19
  },
  {
   "metadata": {
    "ExecuteTime": {
     "end_time": "2024-10-23T13:58:09.015898Z",
     "start_time": "2024-10-23T13:58:08.993932Z"
    }
   },
   "cell_type": "code",
   "source": [
    "ddf_sample = dd.read_csv('zamowienia_missing.csv', sep=',', sample=70)\n",
    "ddf_sample[ddf_sample['Kraj'] == 'Polska']['Utarg'].sum().compute()"
   ],
   "id": "95f5099d60a44201",
   "outputs": [
    {
     "data": {
      "text/plain": [
       "np.float64(332635.29)"
      ]
     },
     "execution_count": 20,
     "metadata": {},
     "output_type": "execute_result"
    }
   ],
   "execution_count": 20
  },
  {
   "metadata": {},
   "cell_type": "markdown",
   "source": "Zadanie 3",
   "id": "4fcf10097f73b032"
  },
  {
   "metadata": {
    "ExecuteTime": {
     "end_time": "2024-10-23T13:58:32.767377Z",
     "start_time": "2024-10-23T13:58:30.113529Z"
    }
   },
   "cell_type": "code",
   "source": [
    "client = Client(n_workers=3, memory_limit='16GB')\n",
    "client"
   ],
   "id": "c187d9330032eb34",
   "outputs": [
    {
     "data": {
      "text/plain": [
       "<Client: 'tcp://127.0.0.1:52413' processes=3 threads=12, memory=44.70 GiB>"
      ],
      "text/html": [
       "<div>\n",
       "    <div style=\"width: 24px; height: 24px; background-color: #e1e1e1; border: 3px solid #9D9D9D; border-radius: 5px; position: absolute;\"> </div>\n",
       "    <div style=\"margin-left: 48px;\">\n",
       "        <h3 style=\"margin-bottom: 0px;\">Client</h3>\n",
       "        <p style=\"color: #9D9D9D; margin-bottom: 0px;\">Client-e23d7223-9146-11ef-b70c-002b6709ccca</p>\n",
       "        <table style=\"width: 100%; text-align: left;\">\n",
       "\n",
       "        <tr>\n",
       "        \n",
       "            <td style=\"text-align: left;\"><strong>Connection method:</strong> Cluster object</td>\n",
       "            <td style=\"text-align: left;\"><strong>Cluster type:</strong> distributed.LocalCluster</td>\n",
       "        \n",
       "        </tr>\n",
       "\n",
       "        \n",
       "            <tr>\n",
       "                <td style=\"text-align: left;\">\n",
       "                    <strong>Dashboard: </strong> <a href=\"http://127.0.0.1:8787/status\" target=\"_blank\">http://127.0.0.1:8787/status</a>\n",
       "                </td>\n",
       "                <td style=\"text-align: left;\"></td>\n",
       "            </tr>\n",
       "        \n",
       "\n",
       "        </table>\n",
       "\n",
       "        \n",
       "\n",
       "        \n",
       "            <details>\n",
       "            <summary style=\"margin-bottom: 20px;\"><h3 style=\"display: inline;\">Cluster Info</h3></summary>\n",
       "            <div class=\"jp-RenderedHTMLCommon jp-RenderedHTML jp-mod-trusted jp-OutputArea-output\">\n",
       "    <div style=\"width: 24px; height: 24px; background-color: #e1e1e1; border: 3px solid #9D9D9D; border-radius: 5px; position: absolute;\">\n",
       "    </div>\n",
       "    <div style=\"margin-left: 48px;\">\n",
       "        <h3 style=\"margin-bottom: 0px; margin-top: 0px;\">LocalCluster</h3>\n",
       "        <p style=\"color: #9D9D9D; margin-bottom: 0px;\">289167a2</p>\n",
       "        <table style=\"width: 100%; text-align: left;\">\n",
       "            <tr>\n",
       "                <td style=\"text-align: left;\">\n",
       "                    <strong>Dashboard:</strong> <a href=\"http://127.0.0.1:8787/status\" target=\"_blank\">http://127.0.0.1:8787/status</a>\n",
       "                </td>\n",
       "                <td style=\"text-align: left;\">\n",
       "                    <strong>Workers:</strong> 3\n",
       "                </td>\n",
       "            </tr>\n",
       "            <tr>\n",
       "                <td style=\"text-align: left;\">\n",
       "                    <strong>Total threads:</strong> 12\n",
       "                </td>\n",
       "                <td style=\"text-align: left;\">\n",
       "                    <strong>Total memory:</strong> 44.70 GiB\n",
       "                </td>\n",
       "            </tr>\n",
       "            \n",
       "            <tr>\n",
       "    <td style=\"text-align: left;\"><strong>Status:</strong> running</td>\n",
       "    <td style=\"text-align: left;\"><strong>Using processes:</strong> True</td>\n",
       "</tr>\n",
       "\n",
       "            \n",
       "        </table>\n",
       "\n",
       "        <details>\n",
       "            <summary style=\"margin-bottom: 20px;\">\n",
       "                <h3 style=\"display: inline;\">Scheduler Info</h3>\n",
       "            </summary>\n",
       "\n",
       "            <div style=\"\">\n",
       "    <div>\n",
       "        <div style=\"width: 24px; height: 24px; background-color: #FFF7E5; border: 3px solid #FF6132; border-radius: 5px; position: absolute;\"> </div>\n",
       "        <div style=\"margin-left: 48px;\">\n",
       "            <h3 style=\"margin-bottom: 0px;\">Scheduler</h3>\n",
       "            <p style=\"color: #9D9D9D; margin-bottom: 0px;\">Scheduler-3696504d-1be9-45fc-888a-ddc072a299c7</p>\n",
       "            <table style=\"width: 100%; text-align: left;\">\n",
       "                <tr>\n",
       "                    <td style=\"text-align: left;\">\n",
       "                        <strong>Comm:</strong> tcp://127.0.0.1:52413\n",
       "                    </td>\n",
       "                    <td style=\"text-align: left;\">\n",
       "                        <strong>Workers:</strong> 3\n",
       "                    </td>\n",
       "                </tr>\n",
       "                <tr>\n",
       "                    <td style=\"text-align: left;\">\n",
       "                        <strong>Dashboard:</strong> <a href=\"http://127.0.0.1:8787/status\" target=\"_blank\">http://127.0.0.1:8787/status</a>\n",
       "                    </td>\n",
       "                    <td style=\"text-align: left;\">\n",
       "                        <strong>Total threads:</strong> 12\n",
       "                    </td>\n",
       "                </tr>\n",
       "                <tr>\n",
       "                    <td style=\"text-align: left;\">\n",
       "                        <strong>Started:</strong> Just now\n",
       "                    </td>\n",
       "                    <td style=\"text-align: left;\">\n",
       "                        <strong>Total memory:</strong> 44.70 GiB\n",
       "                    </td>\n",
       "                </tr>\n",
       "            </table>\n",
       "        </div>\n",
       "    </div>\n",
       "\n",
       "    <details style=\"margin-left: 48px;\">\n",
       "        <summary style=\"margin-bottom: 20px;\">\n",
       "            <h3 style=\"display: inline;\">Workers</h3>\n",
       "        </summary>\n",
       "\n",
       "        \n",
       "        <div style=\"margin-bottom: 20px;\">\n",
       "            <div style=\"width: 24px; height: 24px; background-color: #DBF5FF; border: 3px solid #4CC9FF; border-radius: 5px; position: absolute;\"> </div>\n",
       "            <div style=\"margin-left: 48px;\">\n",
       "            <details>\n",
       "                <summary>\n",
       "                    <h4 style=\"margin-bottom: 0px; display: inline;\">Worker: 0</h4>\n",
       "                </summary>\n",
       "                <table style=\"width: 100%; text-align: left;\">\n",
       "                    <tr>\n",
       "                        <td style=\"text-align: left;\">\n",
       "                            <strong>Comm: </strong> tcp://127.0.0.1:52430\n",
       "                        </td>\n",
       "                        <td style=\"text-align: left;\">\n",
       "                            <strong>Total threads: </strong> 4\n",
       "                        </td>\n",
       "                    </tr>\n",
       "                    <tr>\n",
       "                        <td style=\"text-align: left;\">\n",
       "                            <strong>Dashboard: </strong> <a href=\"http://127.0.0.1:52434/status\" target=\"_blank\">http://127.0.0.1:52434/status</a>\n",
       "                        </td>\n",
       "                        <td style=\"text-align: left;\">\n",
       "                            <strong>Memory: </strong> 14.90 GiB\n",
       "                        </td>\n",
       "                    </tr>\n",
       "                    <tr>\n",
       "                        <td style=\"text-align: left;\">\n",
       "                            <strong>Nanny: </strong> tcp://127.0.0.1:52416\n",
       "                        </td>\n",
       "                        <td style=\"text-align: left;\"></td>\n",
       "                    </tr>\n",
       "                    <tr>\n",
       "                        <td colspan=\"2\" style=\"text-align: left;\">\n",
       "                            <strong>Local directory: </strong> C:\\Users\\Natalia\\AppData\\Local\\Temp\\dask-scratch-space\\worker-it_9as9r\n",
       "                        </td>\n",
       "                    </tr>\n",
       "\n",
       "                    \n",
       "\n",
       "                    \n",
       "\n",
       "                </table>\n",
       "            </details>\n",
       "            </div>\n",
       "        </div>\n",
       "        \n",
       "        <div style=\"margin-bottom: 20px;\">\n",
       "            <div style=\"width: 24px; height: 24px; background-color: #DBF5FF; border: 3px solid #4CC9FF; border-radius: 5px; position: absolute;\"> </div>\n",
       "            <div style=\"margin-left: 48px;\">\n",
       "            <details>\n",
       "                <summary>\n",
       "                    <h4 style=\"margin-bottom: 0px; display: inline;\">Worker: 1</h4>\n",
       "                </summary>\n",
       "                <table style=\"width: 100%; text-align: left;\">\n",
       "                    <tr>\n",
       "                        <td style=\"text-align: left;\">\n",
       "                            <strong>Comm: </strong> tcp://127.0.0.1:52431\n",
       "                        </td>\n",
       "                        <td style=\"text-align: left;\">\n",
       "                            <strong>Total threads: </strong> 4\n",
       "                        </td>\n",
       "                    </tr>\n",
       "                    <tr>\n",
       "                        <td style=\"text-align: left;\">\n",
       "                            <strong>Dashboard: </strong> <a href=\"http://127.0.0.1:52435/status\" target=\"_blank\">http://127.0.0.1:52435/status</a>\n",
       "                        </td>\n",
       "                        <td style=\"text-align: left;\">\n",
       "                            <strong>Memory: </strong> 14.90 GiB\n",
       "                        </td>\n",
       "                    </tr>\n",
       "                    <tr>\n",
       "                        <td style=\"text-align: left;\">\n",
       "                            <strong>Nanny: </strong> tcp://127.0.0.1:52418\n",
       "                        </td>\n",
       "                        <td style=\"text-align: left;\"></td>\n",
       "                    </tr>\n",
       "                    <tr>\n",
       "                        <td colspan=\"2\" style=\"text-align: left;\">\n",
       "                            <strong>Local directory: </strong> C:\\Users\\Natalia\\AppData\\Local\\Temp\\dask-scratch-space\\worker-6ra1my0w\n",
       "                        </td>\n",
       "                    </tr>\n",
       "\n",
       "                    \n",
       "\n",
       "                    \n",
       "\n",
       "                </table>\n",
       "            </details>\n",
       "            </div>\n",
       "        </div>\n",
       "        \n",
       "        <div style=\"margin-bottom: 20px;\">\n",
       "            <div style=\"width: 24px; height: 24px; background-color: #DBF5FF; border: 3px solid #4CC9FF; border-radius: 5px; position: absolute;\"> </div>\n",
       "            <div style=\"margin-left: 48px;\">\n",
       "            <details>\n",
       "                <summary>\n",
       "                    <h4 style=\"margin-bottom: 0px; display: inline;\">Worker: 2</h4>\n",
       "                </summary>\n",
       "                <table style=\"width: 100%; text-align: left;\">\n",
       "                    <tr>\n",
       "                        <td style=\"text-align: left;\">\n",
       "                            <strong>Comm: </strong> tcp://127.0.0.1:52432\n",
       "                        </td>\n",
       "                        <td style=\"text-align: left;\">\n",
       "                            <strong>Total threads: </strong> 4\n",
       "                        </td>\n",
       "                    </tr>\n",
       "                    <tr>\n",
       "                        <td style=\"text-align: left;\">\n",
       "                            <strong>Dashboard: </strong> <a href=\"http://127.0.0.1:52433/status\" target=\"_blank\">http://127.0.0.1:52433/status</a>\n",
       "                        </td>\n",
       "                        <td style=\"text-align: left;\">\n",
       "                            <strong>Memory: </strong> 14.90 GiB\n",
       "                        </td>\n",
       "                    </tr>\n",
       "                    <tr>\n",
       "                        <td style=\"text-align: left;\">\n",
       "                            <strong>Nanny: </strong> tcp://127.0.0.1:52420\n",
       "                        </td>\n",
       "                        <td style=\"text-align: left;\"></td>\n",
       "                    </tr>\n",
       "                    <tr>\n",
       "                        <td colspan=\"2\" style=\"text-align: left;\">\n",
       "                            <strong>Local directory: </strong> C:\\Users\\Natalia\\AppData\\Local\\Temp\\dask-scratch-space\\worker-fnvde57m\n",
       "                        </td>\n",
       "                    </tr>\n",
       "\n",
       "                    \n",
       "\n",
       "                    \n",
       "\n",
       "                </table>\n",
       "            </details>\n",
       "            </div>\n",
       "        </div>\n",
       "        \n",
       "\n",
       "    </details>\n",
       "</div>\n",
       "\n",
       "        </details>\n",
       "    </div>\n",
       "</div>\n",
       "            </details>\n",
       "        \n",
       "\n",
       "    </div>\n",
       "</div>"
      ]
     },
     "execution_count": 21,
     "metadata": {},
     "output_type": "execute_result"
    }
   ],
   "execution_count": 21
  },
  {
   "metadata": {
    "ExecuteTime": {
     "end_time": "2024-10-23T14:04:15.499510Z",
     "start_time": "2024-10-23T14:04:15.144581Z"
    }
   },
   "cell_type": "code",
   "source": [
    "start_time = time.time()\n",
    "ddfp = dd.read_parquet('*.parquet')\n",
    "end_time = time.time()\n",
    "print(f\"Czas ładowania danych: {end_time - start_time} sekund\")"
   ],
   "id": "7093416be15fea2d",
   "outputs": [
    {
     "name": "stderr",
     "output_type": "stream",
     "text": [
      "C:\\Users\\Natalia\\PycharmProjects\\analiza_danych\\.venv\\Lib\\site-packages\\dask\\dataframe\\io\\parquet\\core.py:1249: FutureWarning: Could not find pyarrow; falling back to fastparquet, which is deprecated and will be removed in a future release.\n",
      "  warnings.warn(\n"
     ]
    },
    {
     "name": "stdout",
     "output_type": "stream",
     "text": [
      "Czas ładowania danych: 0.3510286808013916 sekund\n"
     ]
    }
   ],
   "execution_count": 24
  },
  {
   "metadata": {},
   "cell_type": "markdown",
   "source": "Zadanie 4",
   "id": "700080d917d6482c"
  },
  {
   "metadata": {
    "ExecuteTime": {
     "end_time": "2024-10-23T14:08:27.885050Z",
     "start_time": "2024-10-23T14:08:26.306445Z"
    }
   },
   "cell_type": "code",
   "source": [
    "ddfp = dd.read_parquet('*.parquet')\n",
    "ddfp = ddfp.persist()\n",
    "start_time = time.time()\n",
    "top10 = ddfp.groupby('username')['likes'].sum().nlargest(10).compute()\n",
    "end_time = time.time()\n",
    "print(f\"Czas: {end_time - start_time} sekund\")"
   ],
   "id": "d0c05f30595bc64b",
   "outputs": [
    {
     "name": "stderr",
     "output_type": "stream",
     "text": [
      "C:\\Users\\Natalia\\PycharmProjects\\analiza_danych\\.venv\\Lib\\site-packages\\dask\\dataframe\\io\\parquet\\core.py:1249: FutureWarning: Could not find pyarrow; falling back to fastparquet, which is deprecated and will be removed in a future release.\n",
      "  warnings.warn(\n"
     ]
    },
    {
     "name": "stdout",
     "output_type": "stream",
     "text": [
      "Czas: 1.240492582321167 sekund\n"
     ]
    }
   ],
   "execution_count": 29
  },
  {
   "metadata": {
    "ExecuteTime": {
     "end_time": "2024-10-23T14:08:49.785265Z",
     "start_time": "2024-10-23T14:08:49.773448Z"
    }
   },
   "cell_type": "code",
   "source": "top10",
   "id": "85ef9f5498f30934",
   "outputs": [
    {
     "data": {
      "text/plain": [
       "username\n",
       "instagram          29864166\n",
       "lizakoshy          19217644\n",
       "433                16457870\n",
       "amandacerny        15019135\n",
       "akshaykumar        13352324\n",
       "maisie_williams    12808999\n",
       "chiaraferragni     11709658\n",
       "claireholt         10109849\n",
       "danbilzerian        9253425\n",
       "urvashirautela      9104884\n",
       "Name: likes, dtype: int64"
      ]
     },
     "execution_count": 30,
     "metadata": {},
     "output_type": "execute_result"
    }
   ],
   "execution_count": 30
  },
  {
   "metadata": {
    "ExecuteTime": {
     "end_time": "2024-10-23T14:13:58.420311Z",
     "start_time": "2024-10-23T14:13:45.930603Z"
    }
   },
   "cell_type": "code",
   "source": [
    "ddfp = dd.read_parquet('*.parquet')\n",
    "ddfp = ddfp.persist()\n",
    "ddfp['date'] = dd.to_datetime(ddfp['date'])\n",
    "start_time = time.time()\n",
    "polrocze = ddfp[ddfp['date'].between('2019-01-01', '2019-06-30')].compute()\n",
    "end_time = time.time()\n",
    "print(f\"Czas: {end_time - start_time} sekund\")"
   ],
   "id": "a981a5cda1386537",
   "outputs": [
    {
     "name": "stderr",
     "output_type": "stream",
     "text": [
      "C:\\Users\\Natalia\\PycharmProjects\\analiza_danych\\.venv\\Lib\\site-packages\\dask\\dataframe\\io\\parquet\\core.py:1249: FutureWarning: Could not find pyarrow; falling back to fastparquet, which is deprecated and will be removed in a future release.\n",
      "  warnings.warn(\n"
     ]
    },
    {
     "name": "stdout",
     "output_type": "stream",
     "text": [
      "Czas: 11.955950498580933 sekund\n"
     ]
    }
   ],
   "execution_count": 38
  },
  {
   "metadata": {
    "ExecuteTime": {
     "end_time": "2024-10-23T14:14:04.448525Z",
     "start_time": "2024-10-23T14:14:04.428283Z"
    }
   },
   "cell_type": "code",
   "source": "polrocze",
   "id": "e1f5f7337746c0eb",
   "outputs": [
    {
     "data": {
      "text/plain": [
       "              sid  sid_profile      post_id  profile_id                date  \\\n",
       "2        28370905      3496776  Bunhd1DFVAG  2237947779 2019-03-05 08:03:11   \n",
       "4        32170690      3496776  BuDfIyslzfw  2237947779 2019-02-19 08:10:11   \n",
       "5        14315358      3496776  BxJsMDpA2yH  2237947779 2019-05-07 08:33:51   \n",
       "6         8304346      3496776  Bt5LFpZlm3z  2237947779 2019-02-15 08:02:35   \n",
       "7        14315346      3496776  BxZIzaQhS-o  2237947779 2019-05-13 08:32:30   \n",
       "...           ...          ...          ...         ...                 ...   \n",
       "1147352  43194859      4492285  BxEr8JbHVIZ  3198207653 2019-05-05 09:55:28   \n",
       "1147353  43194861      4492285  Bw6NjgYH9VF  3198207653 2019-05-01 08:17:33   \n",
       "1147354  43194863      4492285  Bwossrynm05  3198207653 2019-04-24 13:03:22   \n",
       "1147355  43194867      4492285  Bvx0jgoHk8h  3198207653 2019-04-03 05:33:47   \n",
       "1147356  43194869      4492285  BtkHy1fnH2n  3198207653 2019-02-07 03:49:45   \n",
       "\n",
       "         post_type                                        description  likes  \\\n",
       "2                1  Tech Tuesday. Been flat out on the tools. Got ...    168   \n",
       "4                1  Solid effort on the bar turn.\\nFully turned.\\n...    145   \n",
       "5                1  Annual springtime flora picture.\\nTurn bars in...    124   \n",
       "6                1  Laps in spring like conditions. Getting these ...    150   \n",
       "7                1  Cheers Scotland 🏴󠁧󠁢󠁳󠁣󠁴󠁿 See you in a few weeks...    166   \n",
       "...            ...                                                ...    ...   \n",
       "1147352          1    A restaurant with no sign and a one-word menu 🍜    112   \n",
       "1147353          1                          Beijing has nice days too    151   \n",
       "1147354          1                                            Breaded    149   \n",
       "1147355          1              A taste of Tokyo in Beijing 🍱 #waimai     74   \n",
       "1147356          1           When it’s -23 degrees, eat ice cream ☃️🍦    111   \n",
       "\n",
       "         comments    username  \\\n",
       "2               3   andylund_   \n",
       "4               2   andylund_   \n",
       "5               2   andylund_   \n",
       "6               3   andylund_   \n",
       "7               2   andylund_   \n",
       "...           ...         ...   \n",
       "1147352         2  zarazhangg   \n",
       "1147353         3  zarazhangg   \n",
       "1147354         2  zarazhangg   \n",
       "1147355         1  zarazhangg   \n",
       "1147356         6  zarazhangg   \n",
       "\n",
       "                                                       bio  following  \\\n",
       "2        Professional Bicycle technician, Intense Racin...        520   \n",
       "4        Professional Bicycle technician, Intense Racin...        520   \n",
       "5        Professional Bicycle technician, Intense Racin...        520   \n",
       "6        Professional Bicycle technician, Intense Racin...        520   \n",
       "7        Professional Bicycle technician, Intense Racin...        520   \n",
       "...                                                    ...        ...   \n",
       "1147352  Harvard grad from China working in tech 🇨🇳🇸🇬🇯🇵...       1801   \n",
       "1147353  Harvard grad from China working in tech 🇨🇳🇸🇬🇯🇵...       1801   \n",
       "1147354  Harvard grad from China working in tech 🇨🇳🇸🇬🇯🇵...       1801   \n",
       "1147355  Harvard grad from China working in tech 🇨🇳🇸🇬🇯🇵...       1801   \n",
       "1147356  Harvard grad from China working in tech 🇨🇳🇸🇬🇯🇵...       1801   \n",
       "\n",
       "         followers  num_posts  is_business_account lang              category  \n",
       "2             1204        494                False   en  science_&_technology  \n",
       "4             1204        494                False   en  diaries_&_daily_life  \n",
       "5             1204        494                False   en        arts_&_culture  \n",
       "6             1204        494                False   en                sports  \n",
       "7             1204        494                False   en                sports  \n",
       "...            ...        ...                  ...  ...                   ...  \n",
       "1147352       1428        249                False   en         food_&_dining  \n",
       "1147353       1428        249                False   en  diaries_&_daily_life  \n",
       "1147354       1428        249                False   en         food_&_dining  \n",
       "1147355       1428        249                False   en    travel_&_adventure  \n",
       "1147356       1428        249                False   en         food_&_dining  \n",
       "\n",
       "[4414869 rows x 17 columns]"
      ],
      "text/html": [
       "<div>\n",
       "<style scoped>\n",
       "    .dataframe tbody tr th:only-of-type {\n",
       "        vertical-align: middle;\n",
       "    }\n",
       "\n",
       "    .dataframe tbody tr th {\n",
       "        vertical-align: top;\n",
       "    }\n",
       "\n",
       "    .dataframe thead th {\n",
       "        text-align: right;\n",
       "    }\n",
       "</style>\n",
       "<table border=\"1\" class=\"dataframe\">\n",
       "  <thead>\n",
       "    <tr style=\"text-align: right;\">\n",
       "      <th></th>\n",
       "      <th>sid</th>\n",
       "      <th>sid_profile</th>\n",
       "      <th>post_id</th>\n",
       "      <th>profile_id</th>\n",
       "      <th>date</th>\n",
       "      <th>post_type</th>\n",
       "      <th>description</th>\n",
       "      <th>likes</th>\n",
       "      <th>comments</th>\n",
       "      <th>username</th>\n",
       "      <th>bio</th>\n",
       "      <th>following</th>\n",
       "      <th>followers</th>\n",
       "      <th>num_posts</th>\n",
       "      <th>is_business_account</th>\n",
       "      <th>lang</th>\n",
       "      <th>category</th>\n",
       "    </tr>\n",
       "  </thead>\n",
       "  <tbody>\n",
       "    <tr>\n",
       "      <th>2</th>\n",
       "      <td>28370905</td>\n",
       "      <td>3496776</td>\n",
       "      <td>Bunhd1DFVAG</td>\n",
       "      <td>2237947779</td>\n",
       "      <td>2019-03-05 08:03:11</td>\n",
       "      <td>1</td>\n",
       "      <td>Tech Tuesday. Been flat out on the tools. Got ...</td>\n",
       "      <td>168</td>\n",
       "      <td>3</td>\n",
       "      <td>andylund_</td>\n",
       "      <td>Professional Bicycle technician, Intense Racin...</td>\n",
       "      <td>520</td>\n",
       "      <td>1204</td>\n",
       "      <td>494</td>\n",
       "      <td>False</td>\n",
       "      <td>en</td>\n",
       "      <td>science_&amp;_technology</td>\n",
       "    </tr>\n",
       "    <tr>\n",
       "      <th>4</th>\n",
       "      <td>32170690</td>\n",
       "      <td>3496776</td>\n",
       "      <td>BuDfIyslzfw</td>\n",
       "      <td>2237947779</td>\n",
       "      <td>2019-02-19 08:10:11</td>\n",
       "      <td>1</td>\n",
       "      <td>Solid effort on the bar turn.\\nFully turned.\\n...</td>\n",
       "      <td>145</td>\n",
       "      <td>2</td>\n",
       "      <td>andylund_</td>\n",
       "      <td>Professional Bicycle technician, Intense Racin...</td>\n",
       "      <td>520</td>\n",
       "      <td>1204</td>\n",
       "      <td>494</td>\n",
       "      <td>False</td>\n",
       "      <td>en</td>\n",
       "      <td>diaries_&amp;_daily_life</td>\n",
       "    </tr>\n",
       "    <tr>\n",
       "      <th>5</th>\n",
       "      <td>14315358</td>\n",
       "      <td>3496776</td>\n",
       "      <td>BxJsMDpA2yH</td>\n",
       "      <td>2237947779</td>\n",
       "      <td>2019-05-07 08:33:51</td>\n",
       "      <td>1</td>\n",
       "      <td>Annual springtime flora picture.\\nTurn bars in...</td>\n",
       "      <td>124</td>\n",
       "      <td>2</td>\n",
       "      <td>andylund_</td>\n",
       "      <td>Professional Bicycle technician, Intense Racin...</td>\n",
       "      <td>520</td>\n",
       "      <td>1204</td>\n",
       "      <td>494</td>\n",
       "      <td>False</td>\n",
       "      <td>en</td>\n",
       "      <td>arts_&amp;_culture</td>\n",
       "    </tr>\n",
       "    <tr>\n",
       "      <th>6</th>\n",
       "      <td>8304346</td>\n",
       "      <td>3496776</td>\n",
       "      <td>Bt5LFpZlm3z</td>\n",
       "      <td>2237947779</td>\n",
       "      <td>2019-02-15 08:02:35</td>\n",
       "      <td>1</td>\n",
       "      <td>Laps in spring like conditions. Getting these ...</td>\n",
       "      <td>150</td>\n",
       "      <td>3</td>\n",
       "      <td>andylund_</td>\n",
       "      <td>Professional Bicycle technician, Intense Racin...</td>\n",
       "      <td>520</td>\n",
       "      <td>1204</td>\n",
       "      <td>494</td>\n",
       "      <td>False</td>\n",
       "      <td>en</td>\n",
       "      <td>sports</td>\n",
       "    </tr>\n",
       "    <tr>\n",
       "      <th>7</th>\n",
       "      <td>14315346</td>\n",
       "      <td>3496776</td>\n",
       "      <td>BxZIzaQhS-o</td>\n",
       "      <td>2237947779</td>\n",
       "      <td>2019-05-13 08:32:30</td>\n",
       "      <td>1</td>\n",
       "      <td>Cheers Scotland 🏴󠁧󠁢󠁳󠁣󠁴󠁿 See you in a few weeks...</td>\n",
       "      <td>166</td>\n",
       "      <td>2</td>\n",
       "      <td>andylund_</td>\n",
       "      <td>Professional Bicycle technician, Intense Racin...</td>\n",
       "      <td>520</td>\n",
       "      <td>1204</td>\n",
       "      <td>494</td>\n",
       "      <td>False</td>\n",
       "      <td>en</td>\n",
       "      <td>sports</td>\n",
       "    </tr>\n",
       "    <tr>\n",
       "      <th>...</th>\n",
       "      <td>...</td>\n",
       "      <td>...</td>\n",
       "      <td>...</td>\n",
       "      <td>...</td>\n",
       "      <td>...</td>\n",
       "      <td>...</td>\n",
       "      <td>...</td>\n",
       "      <td>...</td>\n",
       "      <td>...</td>\n",
       "      <td>...</td>\n",
       "      <td>...</td>\n",
       "      <td>...</td>\n",
       "      <td>...</td>\n",
       "      <td>...</td>\n",
       "      <td>...</td>\n",
       "      <td>...</td>\n",
       "      <td>...</td>\n",
       "    </tr>\n",
       "    <tr>\n",
       "      <th>1147352</th>\n",
       "      <td>43194859</td>\n",
       "      <td>4492285</td>\n",
       "      <td>BxEr8JbHVIZ</td>\n",
       "      <td>3198207653</td>\n",
       "      <td>2019-05-05 09:55:28</td>\n",
       "      <td>1</td>\n",
       "      <td>A restaurant with no sign and a one-word menu 🍜</td>\n",
       "      <td>112</td>\n",
       "      <td>2</td>\n",
       "      <td>zarazhangg</td>\n",
       "      <td>Harvard grad from China working in tech 🇨🇳🇸🇬🇯🇵...</td>\n",
       "      <td>1801</td>\n",
       "      <td>1428</td>\n",
       "      <td>249</td>\n",
       "      <td>False</td>\n",
       "      <td>en</td>\n",
       "      <td>food_&amp;_dining</td>\n",
       "    </tr>\n",
       "    <tr>\n",
       "      <th>1147353</th>\n",
       "      <td>43194861</td>\n",
       "      <td>4492285</td>\n",
       "      <td>Bw6NjgYH9VF</td>\n",
       "      <td>3198207653</td>\n",
       "      <td>2019-05-01 08:17:33</td>\n",
       "      <td>1</td>\n",
       "      <td>Beijing has nice days too</td>\n",
       "      <td>151</td>\n",
       "      <td>3</td>\n",
       "      <td>zarazhangg</td>\n",
       "      <td>Harvard grad from China working in tech 🇨🇳🇸🇬🇯🇵...</td>\n",
       "      <td>1801</td>\n",
       "      <td>1428</td>\n",
       "      <td>249</td>\n",
       "      <td>False</td>\n",
       "      <td>en</td>\n",
       "      <td>diaries_&amp;_daily_life</td>\n",
       "    </tr>\n",
       "    <tr>\n",
       "      <th>1147354</th>\n",
       "      <td>43194863</td>\n",
       "      <td>4492285</td>\n",
       "      <td>Bwossrynm05</td>\n",
       "      <td>3198207653</td>\n",
       "      <td>2019-04-24 13:03:22</td>\n",
       "      <td>1</td>\n",
       "      <td>Breaded</td>\n",
       "      <td>149</td>\n",
       "      <td>2</td>\n",
       "      <td>zarazhangg</td>\n",
       "      <td>Harvard grad from China working in tech 🇨🇳🇸🇬🇯🇵...</td>\n",
       "      <td>1801</td>\n",
       "      <td>1428</td>\n",
       "      <td>249</td>\n",
       "      <td>False</td>\n",
       "      <td>en</td>\n",
       "      <td>food_&amp;_dining</td>\n",
       "    </tr>\n",
       "    <tr>\n",
       "      <th>1147355</th>\n",
       "      <td>43194867</td>\n",
       "      <td>4492285</td>\n",
       "      <td>Bvx0jgoHk8h</td>\n",
       "      <td>3198207653</td>\n",
       "      <td>2019-04-03 05:33:47</td>\n",
       "      <td>1</td>\n",
       "      <td>A taste of Tokyo in Beijing 🍱 #waimai</td>\n",
       "      <td>74</td>\n",
       "      <td>1</td>\n",
       "      <td>zarazhangg</td>\n",
       "      <td>Harvard grad from China working in tech 🇨🇳🇸🇬🇯🇵...</td>\n",
       "      <td>1801</td>\n",
       "      <td>1428</td>\n",
       "      <td>249</td>\n",
       "      <td>False</td>\n",
       "      <td>en</td>\n",
       "      <td>travel_&amp;_adventure</td>\n",
       "    </tr>\n",
       "    <tr>\n",
       "      <th>1147356</th>\n",
       "      <td>43194869</td>\n",
       "      <td>4492285</td>\n",
       "      <td>BtkHy1fnH2n</td>\n",
       "      <td>3198207653</td>\n",
       "      <td>2019-02-07 03:49:45</td>\n",
       "      <td>1</td>\n",
       "      <td>When it’s -23 degrees, eat ice cream ☃️🍦</td>\n",
       "      <td>111</td>\n",
       "      <td>6</td>\n",
       "      <td>zarazhangg</td>\n",
       "      <td>Harvard grad from China working in tech 🇨🇳🇸🇬🇯🇵...</td>\n",
       "      <td>1801</td>\n",
       "      <td>1428</td>\n",
       "      <td>249</td>\n",
       "      <td>False</td>\n",
       "      <td>en</td>\n",
       "      <td>food_&amp;_dining</td>\n",
       "    </tr>\n",
       "  </tbody>\n",
       "</table>\n",
       "<p>4414869 rows × 17 columns</p>\n",
       "</div>"
      ]
     },
     "execution_count": 39,
     "metadata": {},
     "output_type": "execute_result"
    }
   ],
   "execution_count": 39
  },
  {
   "metadata": {},
   "cell_type": "markdown",
   "source": "Zadanie 5",
   "id": "10cb7f6f650e1bc0"
  },
  {
   "metadata": {
    "ExecuteTime": {
     "end_time": "2024-10-23T14:17:29.053480Z",
     "start_time": "2024-10-23T14:16:46.583682Z"
    }
   },
   "cell_type": "code",
   "source": [
    "dtype_opt = {\n",
    "    'sid': np.int32,\n",
    "    'post_id': 'category',\n",
    "    'profile_id': 'category',\n",
    "    'post_type': 'category',\n",
    "    'description': 'str',\n",
    "    'likes': np.int32,\n",
    "    'comments': np.int32,\n",
    "    'username': 'category',\n",
    "    'bio': 'str',\n",
    "    'followers': np.int32,\n",
    "    'following': np.int32,\n",
    "    'num_posts': np.int32,\n",
    "    'lang': 'category',\n",
    "    'category': 'category'\n",
    "}\n",
    "\n",
    "start_time = time.time()\n",
    "ddf_opt = dd.read_parquet('*.parquet', dtype=dtype_opt)\n",
    "ddf_opt['date'] = dd.to_datetime(ddf_opt['date'])\n",
    "ddf_opt.compute()\n",
    "end_time = time.time()\n",
    "print(f\"Czas: {end_time - start_time} sekund\")"
   ],
   "id": "eb2a82cd1d5b68db",
   "outputs": [
    {
     "name": "stderr",
     "output_type": "stream",
     "text": [
      "C:\\Users\\Natalia\\PycharmProjects\\analiza_danych\\.venv\\Lib\\site-packages\\dask\\dataframe\\io\\parquet\\core.py:1249: FutureWarning: Could not find pyarrow; falling back to fastparquet, which is deprecated and will be removed in a future release.\n",
      "  warnings.warn(\n"
     ]
    },
    {
     "name": "stdout",
     "output_type": "stream",
     "text": [
      "Czas: 42.439425230026245 sekund\n"
     ]
    }
   ],
   "execution_count": 40
  },
  {
   "metadata": {
    "ExecuteTime": {
     "end_time": "2024-10-23T14:18:59.257224Z",
     "start_time": "2024-10-23T14:18:26.647060Z"
    }
   },
   "cell_type": "code",
   "source": [
    "start_time = time.time()\n",
    "top10_opt = ddf_opt.groupby('username')['likes'].sum().nlargest(10).compute()\n",
    "end_time = time.time()\n",
    "print(f\"Czas: {end_time - start_time} sekund\")"
   ],
   "id": "1586a374474e78cb",
   "outputs": [
    {
     "name": "stdout",
     "output_type": "stream",
     "text": [
      "Czas: 32.59843158721924 sekund\n"
     ]
    }
   ],
   "execution_count": 41
  },
  {
   "metadata": {
    "ExecuteTime": {
     "end_time": "2024-10-23T14:21:00.435072Z",
     "start_time": "2024-10-23T14:20:16.500363Z"
    }
   },
   "cell_type": "code",
   "source": [
    "start_time = time.time()\n",
    "polrocze_opt = ddf_opt[ddf_opt['date'].between('2019-01-01', '2019-06-30')].compute()\n",
    "end_time = time.time()\n",
    "print(f\"Czas: {end_time - start_time} sekund\")"
   ],
   "id": "f48b63ab12ae69c6",
   "outputs": [
    {
     "name": "stdout",
     "output_type": "stream",
     "text": [
      "Czas: 43.91252517700195 sekund\n"
     ]
    }
   ],
   "execution_count": 42
  },
  {
   "metadata": {},
   "cell_type": "code",
   "outputs": [],
   "execution_count": null,
   "source": "",
   "id": "8640e83a9fd8b7ee"
  }
 ],
 "metadata": {
  "kernelspec": {
   "display_name": "Python 3",
   "language": "python",
   "name": "python3"
  },
  "language_info": {
   "codemirror_mode": {
    "name": "ipython",
    "version": 2
   },
   "file_extension": ".py",
   "mimetype": "text/x-python",
   "name": "python",
   "nbconvert_exporter": "python",
   "pygments_lexer": "ipython2",
   "version": "2.7.6"
  }
 },
 "nbformat": 4,
 "nbformat_minor": 5
}
