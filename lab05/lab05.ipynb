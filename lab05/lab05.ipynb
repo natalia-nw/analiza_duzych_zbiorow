{
  "cells": [
    {
      "cell_type": "code",
      "execution_count": 3,
      "metadata": {
        "colab": {
          "base_uri": "https://localhost:8080/"
        },
        "id": "RewODxheLfvi",
        "outputId": "4a9466d3-aa93-4f2d-9a64-d3d0f4de5113"
      },
      "outputs": [
        {
          "name": "stdout",
          "output_type": "stream",
          "text": [
            "Liczba linii zawierających słowo 'Tadeusz': 182\n"
          ]
        }
      ],
      "source": [
        "from pyspark.sql import SparkSession\n",
        "\n",
        "spark = SparkSession.builder.appName(\"PanTadeusz\").getOrCreate()\n",
        "\n",
        "rdd = spark.sparkContext.textFile(\"pan-tadeusz.txt\")\n",
        "\n",
        "tadeusz_lines = rdd.filter(lambda line: \"Tadeusz\" in line)\n",
        "\n",
        "line_count = tadeusz_lines.count()\n",
        "\n",
        "print(f\"Liczba linii zawierających słowo 'Tadeusz': {line_count}\")"
      ]
    },
    {
      "cell_type": "code",
      "execution_count": 7,
      "metadata": {
        "colab": {
          "base_uri": "https://localhost:8080/"
        },
        "id": "gaPyail_M00o",
        "outputId": "8840dfb9-3b7d-468d-989f-db9fd219c610"
      },
      "outputs": [
        {
          "name": "stdout",
          "output_type": "stream",
          "text": [
            "Trzy najdłuższe linie:\n",
            "536: O niebezpieczeństwach wynikających z nieporządnego obozowania — Odsiecz niespodziana — Smutne położenie szlachty — Odwiedziny kwestarskie są wróżbą ratunku — Major Płut zbytnią zalotnością ściąga na siebie burzę — Wystrzał z krócicy, hasło boju — Czyny Kropiciela, czyny i niebezpieczeństwa Maćka — Konewka zasadzką ocala Soplicowo — Posiłki jezdne, atak na piechotę — Czyny Tadeusza — Pojedynek dowódców przerwany zdradą — Wojski stanowczym manewrem przechyla szalę boju — Czyny krwawe Gerwazego — Podkomorzy zwycięzca wspaniałomyślny.\n",
            "452: Plany myśliwskie Telimeny — Ogrodniczka wybiera się na wielki świat i słucha nauk opiekunki — Strzelcy wracają — Wielkie zadziwienie Tadeusza — Spotkanie się powtórne w Świątyni dumania i zgoda ułatwiona za pośrednictwem mrówek — U stołu wytacza się rzecz o łowach — Powieść Wojskiego o Rejtanie i księciu Denassów, przerwana — Zagajenie układów między stronami, także przerwane — Zjawisko z kluczem — Kłótnia — Hrabia z Gerwazym odbywają radę wojenną.\n",
            "438: Zjawisko w papilotach budzi Tadeusza — Za późne postrzeżenie omyłki — Karczma — Emisariusz — Zręczne użycie tabakiery zwraca dyskusję na właściwą drogę — Matecznik — Niedźwiedź — Niebezpieczeństwo Tadeusza i Hrabiego — Trzy strzały — Spór Sagalasówki z Sanguszkówką rozstrzygniony na stronę jednorurki horeszkowskiej — Bigos — Wojskiego powieść o pojedynku Doweyki z Domeyką przerwana szczuciem kota — Koniec powieści o Doweyce i Domeyce.\n"
          ]
        }
      ],
      "source": [
        "sorted_lines = rdd.map(lambda line: (len(line), line)).sortByKey(ascending=False)\n",
        "\n",
        "top_3_longest_lines = sorted_lines.take(3)\n",
        "\n",
        "print(\"Trzy najdłuższe linie:\")\n",
        "for length, line in top_3_longest_lines:\n",
        "    print(f\"{length}: {line}\")"
      ]
    },
    {
      "cell_type": "code",
      "execution_count": 8,
      "metadata": {
        "colab": {
          "base_uri": "https://localhost:8080/"
        },
        "id": "_ozKf9WHNB6A",
        "outputId": "9ab0f4ff-94e4-4e30-af3d-ff49d4eabd83"
      },
      "outputs": [
        {
          "name": "stdout",
          "output_type": "stream",
          "text": [
            "Najczęściej występujące słowo (po odfiltrowaniu stop words): rzekł\n"
          ]
        }
      ],
      "source": [
        "import json\n",
        "import requests\n",
        "\n",
        "stopwords_url = \"https://raw.githubusercontent.com/bieli/stopwords/master/polish.stopwords.txt\"\n",
        "stopwords = set(requests.get(stopwords_url).text.splitlines())\n",
        "\n",
        "def tokenize_and_clean(line):\n",
        "    import re\n",
        "    words = re.findall(r'\\w+', line.lower()) \n",
        "    return [word for word in words if word not in stopwords]\n",
        "\n",
        "words_rdd = rdd.flatMap(tokenize_and_clean)\n",
        "\n",
        "word_counts = words_rdd.map(lambda word: (word, 1)).reduceByKey(lambda a, b: a + b)\n",
        "\n",
        "word_count_dict = word_counts.collectAsMap()\n",
        "\n",
        "with open(\"pan_tadeusz_bag_of_words.json\", \"w\", encoding=\"utf-8\") as json_file:\n",
        "    json.dump(word_count_dict, json_file, ensure_ascii=False, indent=4)\n",
        "\n",
        "most_frequent_word = max(word_count_dict, key=word_count_dict.get)\n",
        "print(f\"Najczęściej występujące słowo (po odfiltrowaniu stop words): {most_frequent_word}\")"
      ]
    }
  ],
  "metadata": {
    "colab": {
      "provenance": []
    },
    "kernelspec": {
      "display_name": "Python 3",
      "name": "python3"
    },
    "language_info": {
      "name": "python"
    }
  },
  "nbformat": 4,
  "nbformat_minor": 0
}
